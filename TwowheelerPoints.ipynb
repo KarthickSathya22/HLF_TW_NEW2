{
 "cells": [
  {
   "cell_type": "code",
   "execution_count": null,
   "metadata": {},
   "outputs": [],
   "source": [
    "import pandas as pd\n",
    "import numpy as np"
   ]
  },
  {
   "cell_type": "code",
   "execution_count": null,
   "metadata": {},
   "outputs": [],
   "source": [
    "commercial = pd.read_excel('Two_wheeler_Raw.xlsx')"
   ]
  },
  {
   "cell_type": "code",
   "execution_count": null,
   "metadata": {},
   "outputs": [],
   "source": [
    "cibil = pd.read_excel('Two_wheeler_Cibil_Score.xlsx')"
   ]
  },
  {
   "cell_type": "code",
   "execution_count": null,
   "metadata": {},
   "outputs": [],
   "source": [
    "commercial.columns"
   ]
  },
  {
   "cell_type": "code",
   "execution_count": null,
   "metadata": {},
   "outputs": [],
   "source": [
    "commercial[\"Score\"] = np.nan\n",
    "commercial[\"AnotherScore\"] = np.nan"
   ]
  },
  {
   "cell_type": "code",
   "execution_count": null,
   "metadata": {},
   "outputs": [],
   "source": [
    "commercial.columns"
   ]
  },
  {
   "cell_type": "code",
   "execution_count": null,
   "metadata": {},
   "outputs": [],
   "source": [
    "cibil.columns[7:9]"
   ]
  },
  {
   "cell_type": "code",
   "execution_count": null,
   "metadata": {},
   "outputs": [],
   "source": [
    "cnt = 0\n",
    "for i in range(len(commercial['cus_CustomerCode'])):\n",
    "    for j in range(len(cibil['CustomerCode'])):\n",
    "        if commercial['cus_CustomerCode'][i] == cibil['CustomerCode'][j]:\n",
    "            print('Yes')\n",
    "            cnt = cnt+1\n",
    "            print(cnt)"
   ]
  },
  {
   "cell_type": "code",
   "execution_count": null,
   "metadata": {},
   "outputs": [],
   "source": [
    "#Appending Scores with corresponding user:\n",
    "for i in range(len(commercial['cus_CustomerCode'])):\n",
    "    for j in range(len(cibil['CustomerCode'])):\n",
    "        if commercial['cus_CustomerCode'][i] == cibil['CustomerCode'][j]:\n",
    "            commer = commercial.iloc[i].values.tolist()\n",
    "            commer[-2:] = cibil.iloc[j].values.tolist()[7:9]\n",
    "            commercial.iloc[i] = commer"
   ]
  },
  {
   "cell_type": "code",
   "execution_count": null,
   "metadata": {},
   "outputs": [],
   "source": [
    "commercial.shape"
   ]
  },
  {
   "cell_type": "code",
   "execution_count": null,
   "metadata": {},
   "outputs": [],
   "source": [
    "print(commercial.AnotherScore.isnull().sum())\n",
    "print(commercial.Score.isnull().sum())"
   ]
  },
  {
   "cell_type": "code",
   "execution_count": null,
   "metadata": {},
   "outputs": [],
   "source": [
    "null_records = commercial.shape[0] - commercial.AnotherScore.isnull().sum()\n",
    "print(\"Their is a {} Records with cibil are found..\".format(null_records))"
   ]
  },
  {
   "cell_type": "code",
   "execution_count": null,
   "metadata": {},
   "outputs": [],
   "source": [
    "#Pre-processing Cibil Score:\n",
    "def cibil(x):\n",
    "    if x == '000-1':\n",
    "        return 1\n",
    "    else:\n",
    "        return x"
   ]
  },
  {
   "cell_type": "code",
   "execution_count": null,
   "metadata": {},
   "outputs": [],
   "source": [
    "commercial.Score = commercial.Score.apply(cibil)"
   ]
  },
  {
   "cell_type": "code",
   "execution_count": null,
   "metadata": {},
   "outputs": [],
   "source": [
    "commercial.Score.value_counts()"
   ]
  },
  {
   "cell_type": "code",
   "execution_count": null,
   "metadata": {},
   "outputs": [],
   "source": [
    "for i in commercial.columns:\n",
    "    print(commercial[i].value_counts())"
   ]
  },
  {
   "cell_type": "code",
   "execution_count": null,
   "metadata": {},
   "outputs": [],
   "source": [
    "#Removing '-' from dataset:\n",
    "for i in commercial.columns:\n",
    "    commercial[i][commercial[i] == '-'] = np.nan"
   ]
  },
  {
   "cell_type": "code",
   "execution_count": null,
   "metadata": {},
   "outputs": [],
   "source": [
    "commercial.head()"
   ]
  },
  {
   "cell_type": "code",
   "execution_count": null,
   "metadata": {},
   "outputs": [],
   "source": [
    "print(commercial.columns)\n",
    "print(commercial.isnull().sum())"
   ]
  },
  {
   "cell_type": "markdown",
   "metadata": {},
   "source": [
    "### Feature Handling:"
   ]
  },
  {
   "cell_type": "code",
   "execution_count": null,
   "metadata": {},
   "outputs": [],
   "source": [
    "commercial.cus_MartialTypeId.value_counts()"
   ]
  },
  {
   "cell_type": "code",
   "execution_count": null,
   "metadata": {},
   "outputs": [],
   "source": [
    "def mar(x):\n",
    "    \"\"\"\n",
    "    Method to handle MarialTypeId Feature.\n",
    "    \"\"\"\n",
    "    if x == 2:\n",
    "        return 2751\n",
    "    else:\n",
    "        return 2750"
   ]
  },
  {
   "cell_type": "code",
   "execution_count": null,
   "metadata": {},
   "outputs": [],
   "source": [
    "commercial.cus_MartialTypeId = commercial.cus_MartialTypeId.apply(mar)"
   ]
  },
  {
   "cell_type": "code",
   "execution_count": null,
   "metadata": {},
   "outputs": [],
   "source": [
    "commercial.cus_MartialTypeId.value_counts()"
   ]
  },
  {
   "cell_type": "code",
   "execution_count": null,
   "metadata": {},
   "outputs": [],
   "source": [
    "commercial.shape"
   ]
  },
  {
   "cell_type": "code",
   "execution_count": null,
   "metadata": {},
   "outputs": [],
   "source": [
    "commercial.cus_MartialTypeId.fillna(commercial.cus_MartialTypeId.value_counts().index[0],inplace=True)"
   ]
  },
  {
   "cell_type": "code",
   "execution_count": null,
   "metadata": {},
   "outputs": [],
   "source": [
    "commercial.cus_MartialTypeId.value_counts()"
   ]
  },
  {
   "cell_type": "code",
   "execution_count": null,
   "metadata": {},
   "outputs": [],
   "source": [
    "commercial.cus_Gender.value_counts()"
   ]
  },
  {
   "cell_type": "code",
   "execution_count": null,
   "metadata": {},
   "outputs": [],
   "source": [
    "def gen(x):\n",
    "    \"\"\"\n",
    "    Method to handle MarialTypeId Feature.\n",
    "    \"\"\"\n",
    "    if x == \" \":\n",
    "        return np.nan\n",
    "    if x == 1:\n",
    "        return \"M\"\n",
    "    else:\n",
    "        return x"
   ]
  },
  {
   "cell_type": "code",
   "execution_count": null,
   "metadata": {},
   "outputs": [],
   "source": [
    "commercial.cus_Gender = commercial.cus_Gender.apply(gen)"
   ]
  },
  {
   "cell_type": "code",
   "execution_count": null,
   "metadata": {},
   "outputs": [],
   "source": [
    "commercial.cus_Gender.fillna(commercial.cus_Gender.value_counts().index[0],inplace=True)"
   ]
  },
  {
   "cell_type": "code",
   "execution_count": null,
   "metadata": {},
   "outputs": [],
   "source": [
    "commercial.cus_Gender.value_counts()"
   ]
  },
  {
   "cell_type": "code",
   "execution_count": null,
   "metadata": {},
   "outputs": [],
   "source": [
    "commercial.cus_CurrenResTypeId.value_counts()"
   ]
  },
  {
   "cell_type": "code",
   "execution_count": null,
   "metadata": {},
   "outputs": [],
   "source": [
    "def res_type(x):\n",
    "    \"\"\"\n",
    "    Method to handle ResiTypeId Feature.\n",
    "    \"\"\"\n",
    "    if x == 1:\n",
    "        return 2755\n",
    "    if x == 2:\n",
    "        return 2756\n",
    "    else:\n",
    "        return x"
   ]
  },
  {
   "cell_type": "code",
   "execution_count": null,
   "metadata": {},
   "outputs": [],
   "source": [
    "commercial.cus_CurrenResTypeId = commercial.cus_CurrenResTypeId.apply(res_type)"
   ]
  },
  {
   "cell_type": "code",
   "execution_count": null,
   "metadata": {},
   "outputs": [],
   "source": [
    "commercial.cus_CurrenResTypeId.fillna(commercial.cus_CurrenResTypeId.value_counts().index[0],inplace=True)"
   ]
  },
  {
   "cell_type": "code",
   "execution_count": null,
   "metadata": {},
   "outputs": [],
   "source": [
    "commercial.cus_CurrenResTypeId.value_counts()"
   ]
  },
  {
   "cell_type": "code",
   "execution_count": null,
   "metadata": {},
   "outputs": [],
   "source": [
    "commercial.app_CustIndustryTypeId.value_counts()"
   ]
  },
  {
   "cell_type": "code",
   "execution_count": null,
   "metadata": {},
   "outputs": [],
   "source": [
    "commercial.app_CustIndustryTypeId.fillna(commercial.app_CustIndustryTypeId.value_counts().index[0],inplace=True)"
   ]
  },
  {
   "cell_type": "code",
   "execution_count": null,
   "metadata": {},
   "outputs": [],
   "source": [
    "commercial.app_CustIndustryTypeId.value_counts()"
   ]
  },
  {
   "cell_type": "code",
   "execution_count": null,
   "metadata": {},
   "outputs": [],
   "source": [
    "commercial.app_CustProductCatTypeId.value_counts()"
   ]
  },
  {
   "cell_type": "code",
   "execution_count": null,
   "metadata": {},
   "outputs": [],
   "source": [
    "commercial.app_CustProductCatTypeId.fillna(commercial.app_CustProductCatTypeId.value_counts().index[0],inplace=True)"
   ]
  },
  {
   "cell_type": "code",
   "execution_count": null,
   "metadata": {},
   "outputs": [],
   "source": [
    "commercial.app_CustProductCatTypeId.value_counts()"
   ]
  },
  {
   "cell_type": "code",
   "execution_count": null,
   "metadata": {},
   "outputs": [],
   "source": [
    "commercial.app_CustBrandTypeId.value_counts()"
   ]
  },
  {
   "cell_type": "code",
   "execution_count": null,
   "metadata": {},
   "outputs": [],
   "source": [
    "commercial.app_CustBrandTypeId.fillna(commercial.app_CustBrandTypeId.value_counts().index[0],inplace=True)"
   ]
  },
  {
   "cell_type": "code",
   "execution_count": null,
   "metadata": {},
   "outputs": [],
   "source": [
    "commercial.isnull().sum()"
   ]
  },
  {
   "cell_type": "code",
   "execution_count": null,
   "metadata": {},
   "outputs": [],
   "source": [
    "commercial.columns"
   ]
  },
  {
   "cell_type": "code",
   "execution_count": null,
   "metadata": {},
   "outputs": [],
   "source": [
    "def dob(x):\n",
    "    year = str(x).split('-')[0]\n",
    "    curr_year = 2020\n",
    "    return (curr_year-int(year))"
   ]
  },
  {
   "cell_type": "code",
   "execution_count": null,
   "metadata": {},
   "outputs": [],
   "source": [
    "commercial['cus_Age'] = commercial.cus_DOB.apply(dob)"
   ]
  },
  {
   "cell_type": "code",
   "execution_count": null,
   "metadata": {},
   "outputs": [],
   "source": [
    "commercial.drop('cus_DOB',axis=1,inplace=True)"
   ]
  },
  {
   "cell_type": "code",
   "execution_count": null,
   "metadata": {},
   "outputs": [],
   "source": [
    "commercial.columns"
   ]
  },
  {
   "cell_type": "code",
   "execution_count": null,
   "metadata": {},
   "outputs": [],
   "source": [
    "loan_to_value = []\n",
    "frame = commercial[['app_CustChasAsset','app_CustChasFinance']]\n",
    "loan = (frame.app_CustChasFinance*100/frame.app_CustChasAsset)"
   ]
  },
  {
   "cell_type": "code",
   "execution_count": null,
   "metadata": {},
   "outputs": [],
   "source": [
    "for i in loan:\n",
    "    if (i<85):\n",
    "        loan_to_value.append(120)\n",
    "    elif ((i>=85) and (i <=90)):\n",
    "        loan_to_value.append(100)\n",
    "    elif (i>90):\n",
    "        loan_to_value.append(50)"
   ]
  },
  {
   "cell_type": "code",
   "execution_count": null,
   "metadata": {},
   "outputs": [],
   "source": [
    "commercial[\"Loan_to_Value\"] = loan_to_value"
   ]
  },
  {
   "cell_type": "code",
   "execution_count": null,
   "metadata": {},
   "outputs": [],
   "source": [
    "asset_finance = []\n",
    "frame = commercial.app_CustBrandTypeId"
   ]
  },
  {
   "cell_type": "code",
   "execution_count": null,
   "metadata": {},
   "outputs": [],
   "source": [
    "for i in frame:\n",
    "    # Approved Models (Hero /Honda/Suzuki  - All Products)\n",
    "    if ((i == 1360) | (i == 1542) | (i == 1544) | (i == 1546)):\n",
    "        asset_finance.append(100)\n",
    "    \n",
    "    # Unapproved Models (Only Yahama, TVS and Royal Enfield Bike Variants) with PM Approval:\n",
    "    elif ((i == 1547) | (i == 1647) | (i == 935) | (i == 1549)):  \n",
    "        asset_finance.append(50)\n",
    "    \n",
    "    else:\n",
    "        asset_finance.append(-100)"
   ]
  },
  {
   "cell_type": "code",
   "execution_count": null,
   "metadata": {},
   "outputs": [],
   "source": [
    "commercial[\"Asset_Financed\"] = asset_finance"
   ]
  },
  {
   "cell_type": "code",
   "execution_count": null,
   "metadata": {},
   "outputs": [],
   "source": [
    "gi = []\n",
    "frame = commercial.app_CustTotInflow*12"
   ]
  },
  {
   "cell_type": "code",
   "execution_count": null,
   "metadata": {},
   "outputs": [],
   "source": [
    "for i in frame:\n",
    "    if i > 12000:\n",
    "        gi.append(100)\n",
    "    elif i>8000 and i<=12000:\n",
    "        gi.append(70)\n",
    "    elif i >= 5000 and i<=8000:\n",
    "        gi.append(50)\n",
    "    elif i < 5000:\n",
    "        gi.append(-50)"
   ]
  },
  {
   "cell_type": "code",
   "execution_count": null,
   "metadata": {},
   "outputs": [],
   "source": [
    "commercial[\"Gross Income\"] = gi"
   ]
  },
  {
   "cell_type": "code",
   "execution_count": null,
   "metadata": {},
   "outputs": [],
   "source": [
    "commercial.columns"
   ]
  },
  {
   "cell_type": "code",
   "execution_count": null,
   "metadata": {},
   "outputs": [],
   "source": [
    "frame = commercial[['app_CustEMI','app_CustBankClosBal','cus_CurrenResTypeId', 'cus_CurrenStyYear','AnotherScore']]\n",
    "list1 = frame.values.tolist()"
   ]
  },
  {
   "cell_type": "code",
   "execution_count": null,
   "metadata": {},
   "outputs": [],
   "source": [
    "banking = []\n",
    "for i in list1:\n",
    "    if ((i[0]>i[1]) and (i[2] == 2756 and i[3]>3)):\n",
    "        banking.append(100)\n",
    "    elif ((i[0]>i[1]) and (i[2] == 2755)):\n",
    "        banking.append(100)\n",
    "    elif ((i[0]>i[1]) and (i[2] == 2756 and i[3]>2)):\n",
    "        banking.append(80)\n",
    "    elif ((i[0]<i[1]) or (i[2] == 2756 and i[3]<2)):\n",
    "        banking.append(-100)\n",
    "    elif i[4]>600:\n",
    "        banking.append(100)"
   ]
  },
  {
   "cell_type": "code",
   "execution_count": null,
   "metadata": {},
   "outputs": [],
   "source": [
    "len(banking)"
   ]
  },
  {
   "cell_type": "code",
   "execution_count": null,
   "metadata": {},
   "outputs": [],
   "source": [
    "commercial[\"Banking\"] = banking"
   ]
  },
  {
   "cell_type": "code",
   "execution_count": null,
   "metadata": {},
   "outputs": [],
   "source": [
    "stabiltiy = []\n",
    "for i in range(commercial.shape[0]):\n",
    "        stabiltiy.append(int(np.random.choice([100,80,-80],1)))"
   ]
  },
  {
   "cell_type": "code",
   "execution_count": null,
   "metadata": {},
   "outputs": [],
   "source": [
    "len(stabiltiy)"
   ]
  },
  {
   "cell_type": "code",
   "execution_count": null,
   "metadata": {},
   "outputs": [],
   "source": [
    "commercial[\"Employment_Stabilty\"] = stabiltiy"
   ]
  },
  {
   "cell_type": "code",
   "execution_count": null,
   "metadata": {},
   "outputs": [],
   "source": [
    "frame = commercial[['cus_Age','cus_MartialTypeId', 'cus_Dependants']]\n",
    "list1 = frame.values.tolist()"
   ]
  },
  {
   "cell_type": "code",
   "execution_count": null,
   "metadata": {},
   "outputs": [],
   "source": [
    "age = []\n",
    "for i in list1:\n",
    "    #Age between 21 and 50 years, Married with No Dependents\n",
    "    if ((i[0]>=21 and i[0]<=50) and (i[1]==2750 and i[2] == 0)):\n",
    "        age.append(120)\n",
    "        \n",
    "    #Age between 21 and 50 years, Married with Dependents\n",
    "    elif ((i[0]>=21 and i[0]<=50) and (i[1]==2750 and i[2] != 0)):\n",
    "        age.append(100)\n",
    "        \n",
    "    #Age between 51 and 62 years, Married with Dependents\n",
    "    elif ((i[0]>=51 and i[0]<=62) and (i[1]==2750 and i[2] == 0)):\n",
    "        age.append(80)\n",
    "        \n",
    "    #Age between 51 and 62 years, Married with Dependents\n",
    "    elif ((i[0]>=51 and i[0]<=62) and (i[1]==2750 and i[2] != 0)):\n",
    "        age.append(60)\n",
    "        \n",
    "    #Age between 21 and 40 years, Married with Dependents\n",
    "    elif ((i[0]>=21 and i[0]<=40) and (i[1]==2751)):\n",
    "        age.append(100)\n",
    "        \n",
    "    else:\n",
    "        age.append(0)"
   ]
  },
  {
   "cell_type": "code",
   "execution_count": null,
   "metadata": {},
   "outputs": [],
   "source": [
    "len(age)"
   ]
  },
  {
   "cell_type": "code",
   "execution_count": null,
   "metadata": {},
   "outputs": [],
   "source": [
    "commercial[\"Age_Martial\"] = age"
   ]
  },
  {
   "cell_type": "code",
   "execution_count": null,
   "metadata": {},
   "outputs": [],
   "source": [
    "commercial = commercial[['cus_CustomerCode', 'cus_Gender', 'cus_MartialTypeId', 'cus_Dependants',\n",
    "       'cus_CurrenResTypeId', 'cus_CurrenStyYear', 'app_CustBankClosBal',\n",
    "       'app_CustAssetValue', 'app_CustProductCatTypeId', 'app_CustBrandTypeId',\n",
    "       'app_CustIndustryTypeId', 'app_CustTenure', 'app_CustInstalCount',\n",
    "       'app_CustChasAsset', 'app_CustChasInitial', 'app_CustChasFinance',\n",
    "       'app_CustFinanInterest', 'app_CustEMI', 'app_CustTotInflow',\n",
    "       'Score', 'AnotherScore', 'cus_Age', 'Loan_to_Value', 'Asset_Financed',\n",
    "       'Gross Income', 'Banking', 'Employment_Stabilty', 'Age_Martial', 'Label']]"
   ]
  },
  {
   "cell_type": "code",
   "execution_count": null,
   "metadata": {},
   "outputs": [],
   "source": [
    "commercial.columns"
   ]
  },
  {
   "cell_type": "code",
   "execution_count": null,
   "metadata": {},
   "outputs": [],
   "source": [
    "commercial['Geo_Limit'] = [int(np.random.choice([0,1],1)) for i in range(commercial.shape[0])]"
   ]
  },
  {
   "cell_type": "code",
   "execution_count": null,
   "metadata": {},
   "outputs": [],
   "source": [
    "commercial"
   ]
  },
  {
   "cell_type": "code",
   "execution_count": null,
   "metadata": {},
   "outputs": [],
   "source": [
    "commercial = commercial[['cus_CustomerCode', 'cus_Gender', 'cus_MartialTypeId', 'cus_Dependants',\n",
    "       'cus_CurrenResTypeId', 'cus_CurrenStyYear', 'app_CustBankClosBal',\n",
    "       'app_CustAssetValue', 'app_CustProductCatTypeId', 'app_CustBrandTypeId',\n",
    "       'app_CustIndustryTypeId', 'app_CustTenure', 'app_CustInstalCount',\n",
    "       'app_CustChasAsset', 'app_CustChasInitial', 'app_CustChasFinance',\n",
    "       'app_CustFinanInterest', 'app_CustEMI', 'app_CustTotInflow', 'Score',\n",
    "       'AnotherScore', 'cus_Age', 'Loan_to_Value', 'Asset_Financed',\n",
    "       'Gross Income', 'Banking', 'Employment_Stabilty', 'Age_Martial',\n",
    "       'Geo_Limit','Label']]"
   ]
  },
  {
   "cell_type": "code",
   "execution_count": null,
   "metadata": {},
   "outputs": [],
   "source": [
    "commercial.columns"
   ]
  },
  {
   "cell_type": "code",
   "execution_count": null,
   "metadata": {},
   "outputs": [],
   "source": [
    "commercial.to_csv('Train_Data_TW.csv',index=False)"
   ]
  },
  {
   "cell_type": "markdown",
   "metadata": {},
   "source": [
    "### New Updated Data"
   ]
  },
  {
   "cell_type": "code",
   "execution_count": null,
   "metadata": {},
   "outputs": [],
   "source": [
    "import pandas as pd"
   ]
  },
  {
   "cell_type": "code",
   "execution_count": null,
   "metadata": {},
   "outputs": [],
   "source": [
    "df = pd.read_csv('Train_Data_TW.csv')"
   ]
  },
  {
   "cell_type": "code",
   "execution_count": null,
   "metadata": {},
   "outputs": [],
   "source": [
    "df.columns"
   ]
  },
  {
   "cell_type": "code",
   "execution_count": null,
   "metadata": {},
   "outputs": [],
   "source": [
    "df.isnull().sum()"
   ]
  },
  {
   "cell_type": "markdown",
   "metadata": {},
   "source": [
    "### DOB_Score"
   ]
  },
  {
   "cell_type": "code",
   "execution_count": null,
   "metadata": {},
   "outputs": [],
   "source": [
    "DOB_Score = []\n",
    "\n",
    "#over60(1)50(2)40(3)30(5)\n",
    "for i in df.cus_Age:\n",
    "    if i >= 60:\n",
    "        DOB_Score.append(1)\n",
    "    elif i >= 50:\n",
    "        DOB_Score.append(2)\n",
    "    elif i >= 40:\n",
    "        DOB_Score.append(3)\n",
    "    elif i >= 30:\n",
    "        DOB_Score.append(5)\n",
    "    else:\n",
    "        DOB_Score.append(0)"
   ]
  },
  {
   "cell_type": "markdown",
   "metadata": {},
   "source": [
    "### Type of Residence Score"
   ]
  },
  {
   "cell_type": "code",
   "execution_count": null,
   "metadata": {},
   "outputs": [],
   "source": [
    "TOR_Score = []\n",
    "\n",
    "#own(5) rented(0)\n",
    "\n",
    "#2755\tOWN\n",
    "#2756\tRENTED/LEASED\n",
    "\n",
    "for i in df.cus_CurrenResTypeId:\n",
    "    if i == 2755:\n",
    "        TOR_Score.append(5)\n",
    "    else:\n",
    "        TOR_Score.append(0)    "
   ]
  },
  {
   "cell_type": "markdown",
   "metadata": {},
   "source": [
    "### No. Of Years staying Score"
   ]
  },
  {
   "cell_type": "code",
   "execution_count": null,
   "metadata": {},
   "outputs": [],
   "source": [
    "NYS = []\n",
    "\n",
    "#over 3years(5)2years(3)others (2) less than 0ne year(0)\n",
    "\n",
    "for i in df.cus_CurrenStyYear:\n",
    "    if i >= 3:\n",
    "        NYS.append(5)\n",
    "    elif i >= 2:\n",
    "        NYS.append(3)\n",
    "    elif i <= 1:\n",
    "        NYS.append(0)\n",
    "    else:\n",
    "        NYS.append(2)"
   ]
  },
  {
   "cell_type": "markdown",
   "metadata": {},
   "source": [
    "### Dependants Score"
   ]
  },
  {
   "cell_type": "code",
   "execution_count": null,
   "metadata": {},
   "outputs": [],
   "source": [
    "Dependant_Score = []\n",
    "\n",
    "#over2(3)NIL(5)\n",
    "\n",
    "for i in df.cus_Dependants:\n",
    "    if i >= 2:\n",
    "        Dependant_Score.append(3)\n",
    "    else:\n",
    "        Dependant_Score.append(5)"
   ]
  },
  {
   "cell_type": "markdown",
   "metadata": {},
   "source": [
    "### L2V Score"
   ]
  },
  {
   "cell_type": "code",
   "execution_count": null,
   "metadata": {},
   "outputs": [],
   "source": [
    "#L2V Score:\n",
    "#less than 60%(5) 80%(3) 90%(2) others(0)\n",
    "\n",
    "l2v = list((df.app_CustChasFinance*100)/df.app_CustChasAsset)\n",
    "\n",
    "L2V_Score = []\n",
    "for i in l2v:\n",
    "    if i <= 60:\n",
    "        L2V_Score.append(5)\n",
    "    elif i <= 80:\n",
    "        L2V_Score.append(3)\n",
    "    elif i <=90:\n",
    "        L2V_Score.append(2)\n",
    "    else:\n",
    "        L2V_Score.append(0)"
   ]
  },
  {
   "cell_type": "markdown",
   "metadata": {},
   "source": [
    "### CIBIL_Score"
   ]
  },
  {
   "cell_type": "code",
   "execution_count": null,
   "metadata": {},
   "outputs": [],
   "source": [
    "CIBIL_Score = []\n",
    "\n",
    "# 600(1) 700(3)above700(5)\n",
    "\n",
    "for i in df.AnotherScore:\n",
    "    if i == 700:\n",
    "        CIBIL_Score.append(3)\n",
    "    if i > 700:\n",
    "        CIBIL_Score.append(5)\n",
    "    else:\n",
    "        CIBIL_Score.append(1)\n",
    "    "
   ]
  },
  {
   "cell_type": "code",
   "execution_count": null,
   "metadata": {},
   "outputs": [],
   "source": [
    "len(CIBIL_Score)"
   ]
  },
  {
   "cell_type": "markdown",
   "metadata": {},
   "source": [
    "### Total borrowings Score"
   ]
  },
  {
   "cell_type": "code",
   "execution_count": null,
   "metadata": {},
   "outputs": [],
   "source": [
    "#Excluding Housing loan,Equal to one year CTC(5) two times(3) more(1}\n",
    "ctc =  df.app_CustTotInflow * 30 * 12"
   ]
  },
  {
   "cell_type": "code",
   "execution_count": null,
   "metadata": {},
   "outputs": [],
   "source": [
    "Borrwing_Score = []\n",
    "for i in range(df.shape[0]):\n",
    "    if (ctc[i] == df.app_CustChasFinance[i]):\n",
    "        Borrwing_Score.append(5)\n",
    "    elif (2*(ctc[i]) == df.app_CustChasFinance[i]):\n",
    "        Borrwing_Score.append(3)\n",
    "    else:\n",
    "        Borrwing_Score.append(0)"
   ]
  },
  {
   "cell_type": "markdown",
   "metadata": {},
   "source": [
    "### Amount Overdue"
   ]
  },
  {
   "cell_type": "code",
   "execution_count": null,
   "metadata": {},
   "outputs": [],
   "source": [
    "#Over 60DPD inall(0) Suit filed(0)60DPD in one forth of loans by value(3)less than 30DPD in all(5)\n",
    "import numpy as np"
   ]
  },
  {
   "cell_type": "code",
   "execution_count": null,
   "metadata": {},
   "outputs": [],
   "source": [
    "#Generate Random Score for Amount Overdue:\n",
    "overdue_score = []\n",
    "for i in range(df.shape[0]):\n",
    "    overdue_score.append(int(np.random.choice([0,3,5],1)))"
   ]
  },
  {
   "cell_type": "markdown",
   "metadata": {},
   "source": [
    "### Employment Stability"
   ]
  },
  {
   "cell_type": "code",
   "execution_count": null,
   "metadata": {},
   "outputs": [],
   "source": [
    "# Account over 2year vintage(5) one year and above(3)over6 months(2)0thers(0):\n",
    "employement_stability = []\n",
    "for i in range(df.shape[0]):\n",
    "    employement_stability.append(int(np.random.choice([5,3,2,0],1)))"
   ]
  },
  {
   "cell_type": "markdown",
   "metadata": {},
   "source": [
    "### Check Bounce"
   ]
  },
  {
   "cell_type": "code",
   "execution_count": null,
   "metadata": {},
   "outputs": [],
   "source": [
    "#NIL(5)  others(0)\n",
    "checkbounce_score = []\n",
    "for i in range(df.shape[0]):\n",
    "    checkbounce_score.append(int(np.random.choice([0,5],1)))"
   ]
  },
  {
   "cell_type": "markdown",
   "metadata": {},
   "source": [
    "### Avg closing balance"
   ]
  },
  {
   "cell_type": "code",
   "execution_count": null,
   "metadata": {},
   "outputs": [],
   "source": [
    "# Over two times (5) one and above(4) above 90%(3) others(1)"
   ]
  },
  {
   "cell_type": "code",
   "execution_count": null,
   "metadata": {},
   "outputs": [],
   "source": [
    "avg_bal_score = []\n",
    "for i in range(df.shape[0]):\n",
    "    if df.app_CustBankClosBal[i] >=  (2*df.app_CustEMI[i]):\n",
    "        avg_bal_score.append(5)\n",
    "    elif df.app_CustBankClosBal[i] >=  df.app_CustEMI[i]:\n",
    "        avg_bal_score.append(4)\n",
    "        \n",
    "    elif df.app_CustBankClosBal[i] >= ((df.app_CustEMI[i]/100)*90):\n",
    "        avg_bal_score.append(3)\n",
    "    else:\n",
    "        avg_bal_score.append(1)"
   ]
  },
  {
   "cell_type": "markdown",
   "metadata": {},
   "source": [
    "### Banking Score"
   ]
  },
  {
   "cell_type": "code",
   "execution_count": null,
   "metadata": {},
   "outputs": [],
   "source": [
    "#Account over 2yearvintage(5) one year and above(3)over6 months(2)0thers(0)\n",
    "\n",
    "Banking_Score = []\n",
    "for i in range(df.shape[0]):\n",
    "    Banking_Score.append(int(np.random.choice([0,2,3,5],1)))"
   ]
  },
  {
   "cell_type": "markdown",
   "metadata": {},
   "source": [
    "### Monthly salary score"
   ]
  },
  {
   "cell_type": "code",
   "execution_count": null,
   "metadata": {},
   "outputs": [],
   "source": [
    "#More than LTV(5)upto and above50%(4)25% of LTV(2) others(1)\n",
    "salary = df.app_CustTotInflow * 26"
   ]
  },
  {
   "cell_type": "code",
   "execution_count": null,
   "metadata": {},
   "outputs": [],
   "source": [
    "salary_score = []\n",
    "for i in range(df.shape[0]):\n",
    "    if df.app_CustChasFinance[i] < salary[i]:\n",
    "        salary_score.append(5)\n",
    "    elif (salary[i]/df.app_CustChasFinance[i]) >= 50:\n",
    "        salary_score.append(4)\n",
    "    elif (salary[i]/df.app_CustChasFinance[i]) >= 25:\n",
    "        salary_score.append(2)\n",
    "    else:\n",
    "        salary_score.append(1)"
   ]
  },
  {
   "cell_type": "markdown",
   "metadata": {},
   "source": [
    "### No Enquiry Score"
   ]
  },
  {
   "cell_type": "code",
   "execution_count": null,
   "metadata": {},
   "outputs": [],
   "source": [
    "#Similar products in three months(0) else(1)\n",
    "\n",
    "#percentage of value = (totalvalue/100) * percentage\n",
    "\n",
    "enquiry_score = []\n",
    "for i in range(df.shape[0]):\n",
    "    enquiry_score.append(int(np.random.choice([0,5],1)))"
   ]
  },
  {
   "cell_type": "code",
   "execution_count": null,
   "metadata": {},
   "outputs": [],
   "source": [
    "(5/100)*0.05"
   ]
  },
  {
   "cell_type": "code",
   "execution_count": null,
   "metadata": {},
   "outputs": [],
   "source": [
    "0.025+0.025+0.05+0.025+0.025+0.025+0.05+0.025+0.05+0.05+0.025+0.05+0.05+0.025"
   ]
  },
  {
   "cell_type": "code",
   "execution_count": null,
   "metadata": {},
   "outputs": [],
   "source": [
    "df[\"DOB_Score\"] = DOB_Score"
   ]
  },
  {
   "cell_type": "code",
   "execution_count": null,
   "metadata": {},
   "outputs": [],
   "source": [
    "df[\"TOR_Score\"] = TOR_Score"
   ]
  },
  {
   "cell_type": "code",
   "execution_count": null,
   "metadata": {},
   "outputs": [],
   "source": [
    "df[\"NYS\"] = NYS"
   ]
  },
  {
   "cell_type": "code",
   "execution_count": null,
   "metadata": {},
   "outputs": [],
   "source": [
    "df[\"Dependant_Score\"] = Dependant_Score"
   ]
  },
  {
   "cell_type": "code",
   "execution_count": null,
   "metadata": {},
   "outputs": [],
   "source": [
    "df[\"L2V_Score\"] = L2V_Score"
   ]
  },
  {
   "cell_type": "code",
   "execution_count": null,
   "metadata": {},
   "outputs": [],
   "source": [
    "df[\"ES_Score\"] = employement_stability"
   ]
  },
  {
   "cell_type": "code",
   "execution_count": null,
   "metadata": {},
   "outputs": [],
   "source": [
    "df[\"Salary_Score\"] = salary_score"
   ]
  },
  {
   "cell_type": "code",
   "execution_count": null,
   "metadata": {},
   "outputs": [],
   "source": [
    "df[\"Borrwing_Score\"] = Borrwing_Score"
   ]
  },
  {
   "cell_type": "code",
   "execution_count": null,
   "metadata": {},
   "outputs": [],
   "source": [
    "df[\"CIBIL_Score\"] = CIBIL_Score"
   ]
  },
  {
   "cell_type": "code",
   "execution_count": null,
   "metadata": {},
   "outputs": [],
   "source": [
    "df[\"Overdue_Score\"] = overdue_score"
   ]
  },
  {
   "cell_type": "code",
   "execution_count": null,
   "metadata": {},
   "outputs": [],
   "source": [
    "df[\"Enquiry_Score\"] = enquiry_score"
   ]
  },
  {
   "cell_type": "code",
   "execution_count": null,
   "metadata": {},
   "outputs": [],
   "source": [
    "df[\"Banking_Score\"] = Banking_Score"
   ]
  },
  {
   "cell_type": "code",
   "execution_count": null,
   "metadata": {},
   "outputs": [],
   "source": [
    "df[\"Avg_Bal_Score\"] = avg_bal_score"
   ]
  },
  {
   "cell_type": "code",
   "execution_count": null,
   "metadata": {},
   "outputs": [],
   "source": [
    "df[\"Checkbounce_Score\"] = checkbounce_score"
   ]
  },
  {
   "cell_type": "code",
   "execution_count": null,
   "metadata": {},
   "outputs": [],
   "source": [
    "df = df[['cus_Gender', 'cus_MartialTypeId', 'cus_Dependants',\n",
    "       'cus_CurrenResTypeId', 'cus_CurrenStyYear', 'app_CustBankClosBal',\n",
    "       'app_CustAssetValue', 'app_CustProductCatTypeId', 'app_CustBrandTypeId',\n",
    "       'app_CustIndustryTypeId', 'app_CustTenure', 'app_CustInstalCount',\n",
    "       'app_CustChasAsset', 'app_CustChasInitial', 'app_CustChasFinance',\n",
    "       'app_CustFinanInterest', 'app_CustEMI', 'app_CustTotInflow',\n",
    "       'AnotherScore', 'cus_Age','DOB_Score', 'TOR_Score', 'NYS',\n",
    "       'Dependant_Score', 'L2V_Score', 'ES_Score', 'Salary_Score',\n",
    "       'Borrwing_Score', 'CIBIL_Score', 'Overdue_Score', 'Enquiry_Score',\n",
    "       'Banking_Score', 'Avg_Bal_Score', 'Checkbounce_Score','Label']]"
   ]
  },
  {
   "cell_type": "code",
   "execution_count": null,
   "metadata": {},
   "outputs": [],
   "source": [
    "df"
   ]
  },
  {
   "cell_type": "code",
   "execution_count": null,
   "metadata": {},
   "outputs": [],
   "source": [
    "df.to_csv('Updated_Train_TW.csv',index=False)"
   ]
  },
  {
   "cell_type": "code",
   "execution_count": null,
   "metadata": {},
   "outputs": [],
   "source": []
  }
 ],
 "metadata": {
  "kernelspec": {
   "display_name": "Python 3",
   "language": "python",
   "name": "python3"
  },
  "language_info": {
   "codemirror_mode": {
    "name": "ipython",
    "version": 3
   },
   "file_extension": ".py",
   "mimetype": "text/x-python",
   "name": "python",
   "nbconvert_exporter": "python",
   "pygments_lexer": "ipython3",
   "version": "3.7.4"
  }
 },
 "nbformat": 4,
 "nbformat_minor": 4
}
